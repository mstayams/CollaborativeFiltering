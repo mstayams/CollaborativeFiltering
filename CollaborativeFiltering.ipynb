{
 "cells": [
  {
   "cell_type": "code",
   "execution_count": 4,
   "metadata": {},
   "outputs": [],
   "source": [
    "import pandas as pd\n",
    "import numpy as np"
   ]
  },
  {
   "cell_type": "markdown",
   "metadata": {},
   "source": [
    "### The following will compute the cosine similarity between two users rating vectors\n",
    "cosine_similarity = dot_product of two user ratings/(norm(user1 ratging vector)* norm(user2 rating vecor))"
   ]
  },
  {
   "cell_type": "code",
   "execution_count": 5,
   "metadata": {},
   "outputs": [],
   "source": [
    "def cosine_similarity(r1,r2):\n",
    "    dot_prod = np.dot(r1,r2)\n",
    "    #print(dot_prod)\n",
    "    prod_norms = np.linalg.norm(r1)*np.linalg.norm(r2)\n",
    "    #print(prod_norms)\n",
    "    return(dot_prod/prod_norms)"
   ]
  },
  {
   "cell_type": "code",
   "execution_count": 9,
   "metadata": {},
   "outputs": [
    {
     "name": "stdout",
     "output_type": "stream",
     "text": [
      "0.8915304664476421\n",
      "0.7972410051791008\n"
     ]
    },
    {
     "data": {
      "text/plain": [
       "array([[1, 4, 1, 1, 0],\n",
       "       [2, 1, 0, 2, 3],\n",
       "       [2, 1, 1, 1, 2],\n",
       "       [4, 3, 3, 0, 4],\n",
       "       [0, 4, 3, 2, 0]])"
      ]
     },
     "execution_count": 9,
     "metadata": {},
     "output_type": "execute_result"
    }
   ],
   "source": [
    "\n",
    "lst = [\n",
    "                    [5,4,0,0,3,2], \n",
    "                    [4,5,3,0,2,3],\n",
    "                    [3,5,0,0,0,5], \n",
    "                    [2,3,5,5,0,0],\n",
    "                    [3,0,4,3,5,5]   \n",
    "                  ]\n",
    "\n",
    "df = pd.DataFrame(lst,columns=['I1','I2','I3','I4','I5','I6'])\n",
    "# computer the cosine similarity of the first and second rows of the above matrix\n",
    "print(cosine_similarity(df.iloc[0],df.iloc[1]))\n",
    "print(cosine_similarity(df.iloc[0],df.iloc[2]))\n",
    "\n",
    "np.random.randint(low=0, high=5, size=(5,5))"
   ]
  },
  {
   "cell_type": "code",
   "execution_count": 7,
   "metadata": {},
   "outputs": [
    {
     "name": "stdout",
     "output_type": "stream",
     "text": [
      "   I1  I2  I3  I4  I5  I6  sum\n",
      "0   5   4   0   0   3   2   14\n",
      "1   4   5   3   0   2   3   17\n",
      "2   3   5   0   0   0   5   13\n",
      "3   2   3   5   5   0   0   15\n",
      "4   3   0   4   3   5   5   20\n",
      "   I1  I2  I3  I4  I5  I6  sum  count\n",
      "0   5   4   0   0   3   2   14      4\n",
      "1   4   5   3   0   2   3   17      5\n",
      "2   3   5   0   0   0   5   13      3\n",
      "3   2   3   5   5   0   0   15      4\n",
      "4   3   0   4   3   5   5   20      5\n",
      "         I1        I2        I3        I4        I5        I6  sum     count\n",
      "0 -2.250000 -2.500000 -3.500000 -3.500000 -2.750000 -3.000000  0.0 -2.500000\n",
      "1 -2.600000 -2.400000 -2.800000 -3.400000 -3.000000 -2.800000  0.0 -2.400000\n",
      "2 -3.333333 -2.666667 -4.333333 -4.333333 -4.333333 -2.666667  0.0 -3.333333\n",
      "3 -3.250000 -3.000000 -2.500000 -2.500000 -3.750000 -3.750000  0.0 -2.750000\n",
      "4 -3.400000 -4.000000 -3.200000 -3.400000 -3.000000 -3.000000  0.0 -3.000000\n",
      "         I1        I2        I3        I4        I5        I6\n",
      "0 -2.250000 -2.500000 -3.500000 -3.500000 -2.750000 -3.000000\n",
      "1 -2.600000 -2.400000 -2.800000 -3.400000 -3.000000 -2.800000\n",
      "2 -3.333333 -2.666667 -4.333333 -4.333333 -4.333333 -2.666667\n",
      "3 -3.250000 -3.000000 -2.500000 -2.500000 -3.750000 -3.750000\n",
      "4 -3.400000 -4.000000 -3.200000 -3.400000 -3.000000 -3.000000\n",
      "         I1        I2   I3   I4    I5        I6\n",
      "0 -2.250000 -2.500000  0.0  0.0 -2.75 -3.000000\n",
      "1 -2.600000 -2.400000 -2.8  0.0 -3.00 -2.800000\n",
      "2 -3.333333 -2.666667  0.0  0.0  0.00 -2.666667\n",
      "3 -3.250000 -3.000000 -2.5 -2.5  0.00  0.000000\n",
      "4 -3.400000  0.000000 -3.2 -3.4 -3.00 -3.000000\n"
     ]
    }
   ],
   "source": [
    "# Initialize the user vs ratings array\n",
    "# Each row is one user \n",
    "# Each column is one item \n",
    "# The values are ratings\n",
    "\n",
    "lst = [\n",
    "                    [5,4,0,0,3,2], \n",
    "                    [4,5,3,0,2,3],\n",
    "                    [3,5,0,0,0,5], \n",
    "                    [2,3,5,5,0,0],\n",
    "                    [3,0,4,3,5,5]   \n",
    "                  ]\n",
    "\n",
    "df = pd.DataFrame(lst,columns=['I1','I2','I3','I4','I5','I6'])\n",
    "#df = pd.DataFrame(np.random.randn(1000, 500))\n",
    "#df = pd.DataFrame(np.random.randint(low=0, high=5, size=(1000,500)))\n",
    "\n",
    "#print(df.sum(axis=1))\n",
    "\n",
    "df['sum'] = df.sum(axis=1)\n",
    "print(df)\n",
    "\n",
    "df['count'] =(df != 0).sum(axis=1)-1\n",
    "print(df)\n",
    "# Subtract the mean of each row from all the elements of the rows\n",
    "# this makes the values to zero mean\n",
    "df_new = df.apply(lambda x: (x-df['sum'])/df['count'])\n",
    "print(df_new)\n",
    "df.drop(['sum','count'],axis=1,inplace=True)\n",
    "df_new.drop(['sum','count'],axis=1,inplace=True)\n",
    "print(df_new)\n",
    "# normalize the column by dividing by the number of values\n",
    "#df_new = df_new.apply(lambda x: (x/len(df_new.columns)),axis=1)\n",
    "\n",
    "\n",
    "#print(df_new)\n",
    "\n",
    "# to retain the zeros in the modified dataframe\n",
    "df_new = df*df_new\n",
    "df_new = df_new/df\n",
    "df_new = df_new.fillna(0)\n",
    "print(df_new)"
   ]
  },
  {
   "cell_type": "code",
   "execution_count": 10,
   "metadata": {},
   "outputs": [
    {
     "data": {
      "text/plain": [
       "array([0.        , 0.88504622, 0.83415505, 0.49547556, 0.65808107])"
      ]
     },
     "execution_count": 10,
     "metadata": {},
     "output_type": "execute_result"
    }
   ],
   "source": [
    "# Find centered cosine similarities for U1\n",
    "list_cosines = [0]\n",
    "for i in range(1,len(df_new)):\n",
    "    list_cosines.append(cosine_similarity(df_new.iloc[0],df_new.iloc[i]))\n",
    "    \n",
    "cosines = np.array(list_cosines)\n",
    "cosines"
   ]
  },
  {
   "cell_type": "code",
   "execution_count": 9,
   "metadata": {},
   "outputs": [
    {
     "data": {
      "text/plain": [
       "2.7019332160146017"
      ]
     },
     "execution_count": 9,
     "metadata": {},
     "output_type": "execute_result"
    }
   ],
   "source": [
    "(3*0.885+5*0.495+4*0.658) /np.sum(cosines)"
   ]
  },
  {
   "cell_type": "code",
   "execution_count": 11,
   "metadata": {},
   "outputs": [
    {
     "data": {
      "text/plain": [
       "3.75"
      ]
     },
     "execution_count": 11,
     "metadata": {},
     "output_type": "execute_result"
    }
   ],
   "source": [
    "np.sum(0.885+0.495+0.658)\n",
    "#np.sum(cosines)\n",
    "15/4"
   ]
  },
  {
   "cell_type": "code",
   "execution_count": 12,
   "metadata": {},
   "outputs": [
    {
     "data": {
      "text/plain": [
       "2.7029220723605074"
      ]
     },
     "execution_count": 12,
     "metadata": {},
     "output_type": "execute_result"
    }
   ],
   "source": [
    "np.dot(df.iloc[:,2] , cosines) /np.sum(cosines)"
   ]
  },
  {
   "cell_type": "code",
   "execution_count": 13,
   "metadata": {},
   "outputs": [
    {
     "data": {
      "text/plain": [
       "1.5495983849685784"
      ]
     },
     "execution_count": 13,
     "metadata": {},
     "output_type": "execute_result"
    }
   ],
   "source": [
    "np.dot(df.iloc[:,3] , cosines) /np.sum(cosines)"
   ]
  },
  {
   "cell_type": "markdown",
   "metadata": {},
   "source": [
    "### The following computes the centered cosine similary between all combinations of the user rating vectors"
   ]
  },
  {
   "cell_type": "code",
   "execution_count": 11,
   "metadata": {},
   "outputs": [],
   "source": [
    "# Find centered cosine similarities for all users rating vectors\n",
    "list_cosines_all = []\n",
    "for i in range(0,len(df_new)):\n",
    "    list_cosines = []\n",
    "    for j in range(0,len(df_new)):\n",
    "        if i != j:\n",
    "            list_cosines.append(cosine_similarity(df_new.iloc[i],df_new.iloc[j]))\n",
    "        else:\n",
    "            list_cosines.append(0)\n",
    "    list_cosines_all.append(list_cosines)\n",
    "    #print(list_cosines)\n",
    "##list_cosines_all"
   ]
  },
  {
   "cell_type": "code",
   "execution_count": 12,
   "metadata": {},
   "outputs": [],
   "source": [
    "# predict rating\n",
    "def predict_rating(col,cosines):\n",
    "    return(np.dot(df.iloc[:,col] , cosines) /np.sum(cosines))\n"
   ]
  },
  {
   "cell_type": "code",
   "execution_count": 13,
   "metadata": {},
   "outputs": [
    {
     "data": {
      "text/plain": [
       "4.247314176306841"
      ]
     },
     "execution_count": 13,
     "metadata": {},
     "output_type": "execute_result"
    }
   ],
   "source": [
    "# now predict the missing ratings\n",
    "predict_rating(1,list_cosines_all[4])"
   ]
  },
  {
   "cell_type": "markdown",
   "metadata": {},
   "source": [
    "### Finally compute the missing rating values using the weighted cosine similarity of the rating vectors and the ratings\n",
    "### This uses all the user ratings but this can use first K-most similar user ratings vectors "
   ]
  },
  {
   "cell_type": "code",
   "execution_count": 14,
   "metadata": {},
   "outputs": [
    {
     "name": "stdout",
     "output_type": "stream",
     "text": [
      "user 0 and item 2 rating is 2.7029220723605074\n",
      "user 0 and item 3 rating is 1.5495983849685784\n",
      "user 1 and item 3 rating is 1.8489356452614487\n",
      "user 2 and item 2 rating is 2.7667795030061373\n",
      "user 2 and item 3 rating is 1.7765206729154908\n",
      "user 2 and item 4 rating is 2.405232060257132\n",
      "user 3 and item 4 rating is 2.4859652473600686\n",
      "user 3 and item 5 rating is 3.876732117133249\n",
      "user 4 and item 1 rating is 4.247314176306841\n"
     ]
    }
   ],
   "source": [
    "# To predict all missing ratings\n",
    "#\n",
    "for i in range(0,len(df)):\n",
    "    for j in range(0,len(df.columns)):\n",
    "        if(df.iloc[i,j] == 0):\n",
    "            p=predict_rating(j,list_cosines_all[i])\n",
    "            print('user {} and item {} rating is {}'.format(i,j,p))"
   ]
  },
  {
   "cell_type": "code",
   "execution_count": 266,
   "metadata": {},
   "outputs": [
    {
     "data": {
      "text/plain": [
       "Index(['I1', 'I2', 'I3', 'I4', 'I5', 'I6'], dtype='object')"
      ]
     },
     "execution_count": 266,
     "metadata": {},
     "output_type": "execute_result"
    }
   ],
   "source": [
    "# predit ratings using only the first k closest users\n",
    "#"
   ]
  },
  {
   "cell_type": "code",
   "execution_count": 288,
   "metadata": {},
   "outputs": [
    {
     "name": "stdout",
     "output_type": "stream",
     "text": [
      "Sorted list (in Descending): ['u', 'o', 'i', 'e', 'a']\n"
     ]
    }
   ],
   "source": [
    "# vowels list\n",
    "vowels = ['e', 'a', 'u', 'o', 'i']\n",
    "\n",
    "# sort the vowels\n",
    "vowels.sort(reverse=True)\n",
    "\n",
    "# print vowels\n",
    "print('Sorted list (in Descending):', vowels)"
   ]
  },
  {
   "cell_type": "code",
   "execution_count": 306,
   "metadata": {},
   "outputs": [
    {
     "data": {
      "text/plain": [
       "0    4\n",
       "1    5\n",
       "2    3\n",
       "3    4\n",
       "4    5\n",
       "dtype: int64"
      ]
     },
     "execution_count": 306,
     "metadata": {},
     "output_type": "execute_result"
    }
   ],
   "source": [
    "(df != 0).sum(axis=1)"
   ]
  }
 ],
 "metadata": {
  "kernelspec": {
   "display_name": "Python 3",
   "language": "python",
   "name": "python3"
  },
  "language_info": {
   "codemirror_mode": {
    "name": "ipython",
    "version": 3
   },
   "file_extension": ".py",
   "mimetype": "text/x-python",
   "name": "python",
   "nbconvert_exporter": "python",
   "pygments_lexer": "ipython3",
   "version": "3.7.6"
  }
 },
 "nbformat": 4,
 "nbformat_minor": 4
}
